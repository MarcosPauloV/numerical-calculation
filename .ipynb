{
 "cells": [
  {
   "cell_type": "code",
   "execution_count": 5,
   "metadata": {},
   "outputs": [
    {
     "name": "stdout",
     "output_type": "stream",
     "text": [
      "1, 82\n",
      "2, 68\n",
      "3, 78\n",
      "4, 80\n",
      "5, 62\n",
      "6, 60\n",
      "7, 62\n",
      "8, 76\n",
      "9, 74\n",
      "10, 74\n",
      "11, 68\n",
      "12, 68\n",
      "13, 64\n",
      "14, 76\n",
      "15, 88\n",
      "16, 70\n",
      "17, 78\n",
      "18, 80\n",
      "19, 74\n",
      "20, 82\n",
      "21, 80\n",
      "22, 90\n",
      "23, 64\n",
      "24, 74\n",
      "25, 70\n",
      "26, 74\n",
      "27, 84\n",
      "28, 72\n",
      "29, 92\n",
      "30, 64\n",
      "31, 94\n",
      "32, 80\n",
      "33, 78\n",
      "34, 88\n",
      "35, 60\n",
      "36, 68\n",
      "37, 90\n",
      "38, 89\n",
      "39, 68\n",
      "40, 72\n",
      "41, 75\n",
      "42, 83\n",
      "43, 91\n",
      "44, 69\n",
      "45, 77\n",
      "46, 72\n",
      "47, 86\n",
      "48, 90\n",
      "49, 82\n",
      "50, 78\n"
     ]
    }
   ],
   "source": [
    "from src.get_data import get_data\n",
    "data = get_data()\n",
    "\n",
    "for heart in data:\n",
    "    print(heart)"
   ]
  },
  {
   "cell_type": "code",
   "execution_count": null,
   "metadata": {},
   "outputs": [],
   "source": []
  }
 ],
 "metadata": {
  "kernelspec": {
   "display_name": ".venv",
   "language": "python",
   "name": "python3"
  },
  "language_info": {
   "codemirror_mode": {
    "name": "ipython",
    "version": 3
   },
   "file_extension": ".py",
   "mimetype": "text/x-python",
   "name": "python",
   "nbconvert_exporter": "python",
   "pygments_lexer": "ipython3",
   "version": "3.11.7"
  }
 },
 "nbformat": 4,
 "nbformat_minor": 2
}
